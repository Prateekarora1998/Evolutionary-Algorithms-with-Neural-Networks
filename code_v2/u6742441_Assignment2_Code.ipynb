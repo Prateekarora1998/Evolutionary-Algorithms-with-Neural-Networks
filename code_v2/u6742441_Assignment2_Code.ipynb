{
 "cells": [
  {
   "cell_type": "markdown",
   "metadata": {},
   "source": [
    "## Genetic Algorithm"
   ]
  },
  {
   "cell_type": "code",
   "execution_count": 600,
   "metadata": {},
   "outputs": [],
   "source": [
    "## Importing libraries\n",
    "import pandas as pd\n",
    "import numpy as np\n",
    "import torch\n",
    "import re\n",
    "from sklearn import preprocessing\n",
    "import torch.nn as nn\n",
    "import torch.nn.functional as F\n",
    "from sklearn.model_selection import train_test_split\n",
    "from sklearn.model_selection import KFold\n",
    "import matplotlib.pyplot as plt\n",
    "import seaborn as sns"
   ]
  },
  {
   "cell_type": "markdown",
   "metadata": {},
   "source": [
    "##### Reference - Most of the coding is taken or inspired from the lab 3 solutions in which regression model is been implemented and Assignment 1 of this course"
   ]
  },
  {
   "cell_type": "markdown",
   "metadata": {},
   "source": [
    "### Encoding"
   ]
  },
  {
   "cell_type": "code",
   "execution_count": 601,
   "metadata": {},
   "outputs": [
    {
     "name": "stderr",
     "output_type": "stream",
     "text": [
      "C:\\Users\\Prateek\\Anaconda3\\lib\\site-packages\\ipykernel_launcher.py:48: SettingWithCopyWarning: \n",
      "A value is trying to be set on a copy of a slice from a DataFrame.\n",
      "Try using .loc[row_indexer,col_indexer] = value instead\n",
      "\n",
      "See the caveats in the documentation: https://pandas.pydata.org/pandas-docs/stable/user_guide/indexing.html#returning-a-view-versus-a-copy\n"
     ]
    }
   ],
   "source": [
    "# Reference - Most of the coding is taken or inspired from the lab 3 solutions in which regression model is been implemented\n",
    "# Reading the csv files\n",
    "df = pd.read_csv('Comp1111_data_csv.csv')\n",
    "df = df[2:]\n",
    "df = df.drop(columns=['Regno','ES'])\n",
    "\n",
    "# Preprocessing\n",
    "le = preprocessing.LabelEncoder()\n",
    "df['Tutgroup'] = le.fit_transform(df['Tutgroup'])\n",
    "df.reset_index(inplace = True)\n",
    "\n",
    "le = preprocessing.LabelEncoder()\n",
    "df['Crse/Prog'] = le.fit_transform(df['Crse/Prog'])\n",
    "df.reset_index(inplace = True)\n",
    "\n",
    "#Replacing '.' to zeros\n",
    "df = df.replace(to_replace= '.' , value = 0)\n",
    "\n",
    "# String to numeric Conversion\n",
    "df['S'] = pd.to_numeric(df['S'])\n",
    "df['lab2'] = pd.to_numeric(df['lab2'])\n",
    "df['Unnamed: 6'] = pd.to_numeric(df['Unnamed: 6'])\n",
    "df['lab4'] = pd.to_numeric(df['lab4'])\n",
    "df['Unnamed: 8'] = pd.to_numeric(df['Unnamed: 8'])\n",
    "df['h2'] = pd.to_numeric(df['h2'])\n",
    "df['Unnamed: 10'] = pd.to_numeric(df['Unnamed: 10'])\n",
    "df['p1'] = pd.to_numeric(df['p1'])\n",
    "df['Unnamed: 12'] = pd.to_numeric(df['Unnamed: 12'])\n",
    "df['mid'] = pd.to_numeric(df['mid'])\n",
    "df['Unnamed: 14'] = pd.to_numeric(df['Unnamed: 14'])\n",
    "df['final'] = pd.to_numeric(df['final'])\n",
    "\n",
    "X = df.drop(columns = ['final'])\n",
    "Y = df[['final']]\n",
    "\n",
    "# Normalization\n",
    "X['lab2'] = X['lab2'] / 3\n",
    "X['Unnamed: 6'] = X['Unnamed: 6'] / 5\n",
    "X['lab4'] = X['lab4'] / 3\n",
    "X['Unnamed: 8'] = X['Unnamed: 8'] / 20\n",
    "X['h2'] = X['h2'] / 20\n",
    "X['Unnamed: 10'] = X['Unnamed: 10'] / 3\n",
    "X['p1'] = X['p1'] / 20\n",
    "X['Unnamed: 12'] = X['Unnamed: 12'] / 20\n",
    "X['mid'] = X['mid'] / 45\n",
    "X['Unnamed: 14'] = X['Unnamed: 14'] / 3\n",
    "\n",
    "Y['final'] = Y['final']/100\n",
    "X = X.drop(columns = ['level_0','index'])"
   ]
  },
  {
   "cell_type": "code",
   "execution_count": 602,
   "metadata": {},
   "outputs": [],
   "source": [
    "# Reference - Most of the coding is taken or inspired from the lab 3 solutions in which regression model is been implemented\n",
    "X_train1, X_test1, Y_train1, Y_test1 = train_test_split(X, Y, test_size=0.2, random_state=42)\n",
    "\n",
    "X = X_train1.values\n",
    "\n",
    "Y = Y_train1.values\n",
    "\n",
    "# Converting dataframes values to tensor\n",
    "X_train_tensor = torch.Tensor(X_train1.values).float()\n",
    "Y_train_tensor = torch.Tensor(Y_train1.values).float()\n",
    "\n",
    "X_test1_tensor = torch.Tensor(X_test1.values).float()\n",
    "Y_test1_tensor = torch.Tensor(Y_test1.values).float()"
   ]
  },
  {
   "cell_type": "markdown",
   "metadata": {},
   "source": [
    "### Population selection"
   ]
  },
  {
   "cell_type": "code",
   "execution_count": 603,
   "metadata": {},
   "outputs": [],
   "source": [
    "def random_initial_population(population_size):\n",
    "    \n",
    "    population_array = []\n",
    "    for i in range(population_size):\n",
    "        \n",
    "        # Learning rate range\n",
    "        learning_rate1 =  np.random.uniform(0.006,0.02)\n",
    "        # First hidden layer range\n",
    "        hidden_layer1 = np.random.randint(15,25)\n",
    "        # Second hidden layer range\n",
    "        hidden_layer2 = np.random.randint(8,14)\n",
    "        # Less number of epochs is used because the model converges very ealry which can be seen in the previous assignment picture\n",
    "        number_of_epochs = np.random.randint(100,250)\n",
    "        population_array.append((learning_rate1,hidden_layer1,hidden_layer2,number_of_epochs))\n",
    "    \n",
    "    return population_array"
   ]
  },
  {
   "cell_type": "markdown",
   "metadata": {},
   "source": [
    "### Fitness score of population"
   ]
  },
  {
   "cell_type": "code",
   "execution_count": 604,
   "metadata": {},
   "outputs": [],
   "source": [
    "def fitness(population):\n",
    "    \n",
    "    fitness_score_list = []\n",
    "    for i in population:\n",
    "        \n",
    "        learning_rate = i[0] #Extracting the learning rate\n",
    "        hidden_layers = i[1] #Extracting hidden layers1\n",
    "        hidden_layers_1 = i[2] #Extracting hidden layers2\n",
    "        epochs = i[3] #Extracting the number of epochs\n",
    "        feature_size = X_train1.shape[1]\n",
    "        \n",
    "        # Regression model formed\n",
    "        class Regression_Net(nn.Module):\n",
    "            def __init__(self,feature_size, hidden, hidden_1,n_output):\n",
    "                super(Regression_Net, self).__init__()\n",
    "                self.layer_1 = nn.Linear(feature_size,hidden)\n",
    "                self.layer_2 = nn.Linear(hidden, hidden_1)\n",
    "                self.layer_3 = nn.Linear(hidden_1,n_output)\n",
    "            def forward(self,x):\n",
    "                fc = self.layer_1(x)\n",
    "                x = (fc)\n",
    "                x = (self.layer_2(x))\n",
    "                output_layer = (self.layer_3(x))\n",
    "                return output_layer\n",
    "    \n",
    "        regression_neural_network = Regression_Net(feature_size,hidden_layers,hidden_layers_1,n_output=1)\n",
    "        #optimizer\n",
    "        optimizer = torch.optim.Adam(regression_neural_network.parameters(),lr = learning_rate)\n",
    "        # Loss function\n",
    "        loss_function = nn.MSELoss()\n",
    "\n",
    "        losses_array1 = []\n",
    "\n",
    "        for ep in range(epochs):\n",
    "            train_prediction = regression_neural_network(X_train_tensor)\n",
    "\n",
    "            loss = loss_function(train_prediction,Y_train_tensor)\n",
    "\n",
    "            losses_array1.append(loss.item()) # Appending the loss to an array\n",
    "                        \n",
    "            optimizer.zero_grad()\n",
    "\n",
    "            loss.backward() # Implementation of back propogation\n",
    "\n",
    "            optimizer.step() # optimising the model\n",
    "            \n",
    "        test_prediction = regression_neural_network(X_test1_tensor)\n",
    "        loss_on_test_data = loss_function(test_prediction,Y_test1_tensor)\n",
    "\n",
    "        fitness_score_list.append((i,losses_array1[-1],loss_on_test_data.item())) # Storing the hyperparameters, training loss and testing loss   \n",
    "        \n",
    "    return fitness_score_list\n"
   ]
  },
  {
   "cell_type": "markdown",
   "metadata": {},
   "source": [
    "### Decimal to binary conversion"
   ]
  },
  {
   "cell_type": "code",
   "execution_count": 605,
   "metadata": {},
   "outputs": [],
   "source": [
    "## Conversion of decimal to binary number\n",
    "def decimal_to_binary(number,places):\n",
    "    \n",
    "    integer_number = int(number) # Extracting the integer values\n",
    "    float_number = number - integer_number # Extracting the after decimal values\n",
    "    binary_int = bin(integer_number) # Converting the integer to binary using the function bin()\n",
    "    binary_int = binary_int[2:]\n",
    "    binary_float = \"\"\n",
    "    \n",
    "    # Conversion of the number after the decimal place to binary and then adding both the numbers to get the resultant\n",
    "    if(float_number != 0):\n",
    "        while(places):\n",
    "            float_number = float_number * 2\n",
    "            if (int(float_number) == 1):\n",
    "                float_number = float_number - 1\n",
    "                binary_float += \"1\"\n",
    "            else:\n",
    "                binary_float += \"0\"\n",
    "            places = places - 1\n",
    "        string_binary_int = str(binary_int)\n",
    "        string_binary_int += '.'\n",
    "        string_binary_int += binary_float\n",
    "    else:\n",
    "        string_binary_int = str(binary_int)\n",
    "\n",
    "                \n",
    "    return string_binary_int"
   ]
  },
  {
   "cell_type": "markdown",
   "metadata": {},
   "source": [
    "### Binary to decimal conversion"
   ]
  },
  {
   "cell_type": "code",
   "execution_count": 606,
   "metadata": {},
   "outputs": [],
   "source": [
    "# Conversion of binary to decimal \n",
    "def binary_to_decimal(number):\n",
    "    \n",
    "    if (number.find('.') != -1):\n",
    "        number_before_decimal,number_after_decimal = number.split('.') # Splitting the number on the deimal as the number eneterd could be float\n",
    "        \n",
    "    else:\n",
    "        number_before_decimal = number\n",
    "        number_after_decimal = '0'\n",
    "    \n",
    "    m = len(number_before_decimal)\n",
    "    n = len(number_after_decimal)\n",
    "    number = 0\n",
    "    decimal_number = 0\n",
    "    final_number = 0\n",
    "    \n",
    "    # Converting the integer value to binary\n",
    "    for i in range(1,m+1,1):\n",
    "        if(number_before_decimal[-i] == '1'):\n",
    "            number += int(number_before_decimal[-i])*(np.power(2,i-1))\n",
    "    #Converting the number after decimal to binary        \n",
    "    for j in range(0,n,1):\n",
    "        if(number_after_decimal[j] == '1'):\n",
    "            decimal_number += int(number_after_decimal[j]) / (np.power(2,j+1))\n",
    "            \n",
    "    final_number = number + decimal_number #Adding both the binary numbers so as to get the resultant.\n",
    "        \n",
    "    return final_number"
   ]
  },
  {
   "cell_type": "markdown",
   "metadata": {},
   "source": [
    "### Applying crossover on the parents to produce a child"
   ]
  },
  {
   "cell_type": "code",
   "execution_count": 607,
   "metadata": {},
   "outputs": [],
   "source": [
    "def uniform_crossover(initial_parent1, initial_parent2):\n",
    "    \n",
    "    new_child_binary_learning_rate = []\n",
    "    new_child_binary_hidden_layer1 = []\n",
    "    new_child_binary_hidden_layer2 = []\n",
    "    new_child_binary_number_of_epochs = []\n",
    "    child = ''\n",
    "    child1 = ''\n",
    "    child2 = ''\n",
    "    child3 = ''\n",
    "    ########################### Child #####\n",
    "    new_learning_rate_parent1 = decimal_to_binary(initial_parent1[0],10)\n",
    "    new_learning_rate_parent2 = decimal_to_binary(initial_parent2[0],10)\n",
    "    combine_parent = [list(new_learning_rate_parent1),list(new_learning_rate_parent2)]\n",
    "    \n",
    "    for i in range(len(combine_parent[0])):\n",
    "        new_child_binary_learning_rate.append(combine_parent[np.random.randint(0, 2)][i])\n",
    "        \n",
    "    child = ''.join(new_child_binary_learning_rate)\n",
    "    child = binary_to_decimal(child)\n",
    "    #############################################\n",
    "    \n",
    "    \n",
    "    #################### Child 1 ####################\n",
    "    new_hidden_layer_parent1 = format(int(initial_parent1[1]),'05b')\n",
    "    new_hidden_layer_parent2 = format(int(initial_parent2[1]),'05b')\n",
    "    combine_parent1 = [list(new_hidden_layer_parent1),list(new_hidden_layer_parent2)]\n",
    "    \n",
    "    for j in range(len(combine_parent1[1])):\n",
    "        new_child_binary_hidden_layer1.append(combine_parent1[np.random.randint(0,2)][j])\n",
    "        \n",
    "    child1 = ''.join(new_child_binary_hidden_layer1)\n",
    "    child1 = binary_to_decimal(child1)\n",
    "    #################################################\n",
    "        \n",
    "    \n",
    "    ##################### Child 2 ###################\n",
    "    new_hidden_layer2_parent1 = format(int(initial_parent1[2]),'05b')\n",
    "    new_hidden_layer2_parent2 = format(int(initial_parent2[2]),'05b')\n",
    "    combine_parent2 = [list(new_hidden_layer2_parent1),list(new_hidden_layer2_parent2)]\n",
    "    \n",
    "    for k in range(len(combine_parent2[1])):\n",
    "        new_child_binary_hidden_layer2.append(combine_parent2[np.random.randint(0,2)][k])\n",
    "        \n",
    "    child2 = ''.join(new_child_binary_hidden_layer2)\n",
    "    child2 = binary_to_decimal(child2)\n",
    "    #############################################\n",
    "    \n",
    "    ##################### Child 3 ###################\n",
    "    new_number_of_epochs_parent1 = format(int(initial_parent1[3]),'011b')\n",
    "    new_number_of_epochs_parent2 = format(int(initial_parent2[3]),'011b')\n",
    "    combine_parent3 = [list(new_number_of_epochs_parent1),list(new_number_of_epochs_parent2)]\n",
    "    \n",
    "    for l in range(len(combine_parent3[1])):\n",
    "        new_child_binary_number_of_epochs.append(combine_parent3[np.random.randint(0,2)][l])\n",
    "        \n",
    "    child3 = ''.join(new_child_binary_number_of_epochs)\n",
    "    child3 = binary_to_decimal(child3)\n",
    "    #############################################\n",
    "    \n",
    "    crossover_child = [child,child1,child2,child3]\n",
    "    \n",
    "    return crossover_child"
   ]
  },
  {
   "cell_type": "markdown",
   "metadata": {},
   "source": [
    "### Selecting the parent to produce the offspring"
   ]
  },
  {
   "cell_type": "code",
   "execution_count": 608,
   "metadata": {},
   "outputs": [],
   "source": [
    "def selection_of_population(population):\n",
    "    \n",
    "    # These all changes are made because the best model has low rmse value. So, if we take the probability, then the less probability will be assigned to the best model which is not godd so to avoid that it is subtract from one and then again probability is found so as to calculate the right probability in the algorithm\n",
    "    incorrect_probability_for_each_pop = []\n",
    "    correct_probability_for_each_pop = []\n",
    "    total_sum_of_rmse = 0\n",
    "    new_sum = 0\n",
    "    max_value = 0\n",
    "    # Selecting random probabilities\n",
    "    selecting_random_probability = np.random.uniform(0.08,0.14)\n",
    "    parent1_value = []\n",
    "    parent2_value = []\n",
    "    parent1_index = []\n",
    "    parent2_index = []\n",
    "    sorted_correct_probability_for_each_pop = []\n",
    "    \n",
    "    for i in population:\n",
    "        total_sum_of_rmse += i[2]\n",
    "        \n",
    "    for j in population:\n",
    "        k = 1- (j[2] / (total_sum_of_rmse))\n",
    "        incorrect_probability_for_each_pop.append(k)\n",
    "        \n",
    "    for l in incorrect_probability_for_each_pop:\n",
    "        new_sum += l\n",
    "        \n",
    "    for l in incorrect_probability_for_each_pop:\n",
    "        correct_probability_for_each_pop.append(l/new_sum)\n",
    "        \n",
    "    sorted_correct_probability_for_each_pop = sorted(correct_probability_for_each_pop, reverse = False)\n",
    "    \n",
    "    max_value = max(sorted_correct_probability_for_each_pop)\n",
    "    \n",
    "    for i in sorted_correct_probability_for_each_pop:\n",
    "        if (selecting_random_probability < i + 1):\n",
    "            parent1_value = i\n",
    "            \n",
    "        elif (i > max_value):\n",
    "            parent1_value = i\n",
    "            \n",
    "    for i in sorted_correct_probability_for_each_pop:\n",
    "        if (selecting_random_probability < i + 1):\n",
    "            parent2_value = i\n",
    "            \n",
    "        elif (i > max_value):\n",
    "            parent2_value = i\n",
    "    \n",
    "    for i in correct_probability_for_each_pop:\n",
    "        if(parent1_value == i):\n",
    "            parent1_index = correct_probability_for_each_pop.index(i)\n",
    "    \n",
    "    for i in correct_probability_for_each_pop:\n",
    "        if(parent2_value == i):\n",
    "            parent2_index = correct_probability_for_each_pop.index(i)\n",
    "                    \n",
    "    return parent1_index,parent2_index"
   ]
  },
  {
   "cell_type": "markdown",
   "metadata": {},
   "source": [
    "### Mutation on the child"
   ]
  },
  {
   "cell_type": "code",
   "execution_count": 609,
   "metadata": {},
   "outputs": [],
   "source": [
    "def mutation(offspring_value):\n",
    "    \n",
    "    pop_list = []\n",
    "    \n",
    "    learning_rate_of_offspring = decimal_to_binary(offspring_value[0],10)\n",
    "    hidden_layer_1_of_offspring = format(int(offspring_value[1]),'05b')\n",
    "    hidden_layer_2_of_offspring = format(int(offspring_value[2]),'05b')\n",
    "    number_of_epochs_of_offspring = format(int(offspring_value[3]),'011b')\n",
    "    \n",
    "    ############### Mutation for learning rate ######################\n",
    "    learn_index = np.random.randint(1,4)\n",
    "    learning_rate_of_offspring = list(learning_rate_of_offspring)\n",
    "    \n",
    "    if(learning_rate_of_offspring[-learn_index] == '0'):\n",
    "        learning_rate_of_offspring[-learn_index] = '1'\n",
    "    else:\n",
    "        learning_rate_of_offspring[-learn_index] = '0'  \n",
    "        \n",
    "    learning_rate_of_offspring = ''.join(learning_rate_of_offspring)\n",
    "    learning_rate_of_offspring = binary_to_decimal(learning_rate_of_offspring)\n",
    "    ###################################################################\n",
    "    \n",
    "    ############ Mutation for first hidden layer #########################\n",
    "    hidden1_index = np.random.randint(1,3)\n",
    "    hidden_layer_1_of_offspring = list(hidden_layer_1_of_offspring)\n",
    "    \n",
    "    if(hidden_layer_1_of_offspring[-hidden1_index] == '0'):\n",
    "        hidden_layer_1_of_offspring[-hidden1_index] = '1'\n",
    "    else:\n",
    "        hidden_layer_1_of_offspring[-hidden1_index] = '0'\n",
    "    \n",
    "    hidden_layer_1_of_offspring = ''.join(hidden_layer_1_of_offspring)\n",
    "    hidden_layer_1_of_offspring = binary_to_decimal(hidden_layer_1_of_offspring)\n",
    "    ####################################################################\n",
    "    \n",
    "    ############# Mutation for second hidden layer ####################\n",
    "    hidden2_index = np.random.randint(1,3)\n",
    "    hidden_layer_2_of_offspring = list(hidden_layer_2_of_offspring)\n",
    "    \n",
    "    if(hidden_layer_2_of_offspring[-hidden2_index] == '0'):\n",
    "        hidden_layer_2_of_offspring[-hidden2_index] = '1'\n",
    "    else:\n",
    "        hidden_layer_2_of_offspring[-hidden2_index] = '0'\n",
    "    \n",
    "    hidden_layer_2_of_offspring = ''.join(hidden_layer_2_of_offspring)\n",
    "    hidden_layer_2_of_offspring = binary_to_decimal(hidden_layer_2_of_offspring)\n",
    "    ##################################################################\n",
    "    \n",
    "    ################# Mutation for number of epochs ###############################\n",
    "    number_of_epochs_index = np.random.randint(1,7)\n",
    "    number_of_epochs_of_offspring = list(number_of_epochs_of_offspring)\n",
    "    \n",
    "    if (number_of_epochs_of_offspring[-number_of_epochs_index] == \"0\"):\n",
    "        number_of_epochs_of_offspring[-number_of_epochs_index] = '1'\n",
    "    else:\n",
    "        number_of_epochs_of_offspring[-number_of_epochs_index] = '0'\n",
    "        \n",
    "    number_of_epochs_of_offspring = ''.join(number_of_epochs_of_offspring)\n",
    "    number_of_epochs_of_offspring = binary_to_decimal(number_of_epochs_of_offspring)\n",
    "    ###############################################################################\n",
    "    \n",
    "    pop_list.append((learning_rate_of_offspring,hidden_layer_1_of_offspring,hidden_layer_2_of_offspring,number_of_epochs_of_offspring))\n",
    "    \n",
    "    return pop_list\n",
    "    "
   ]
  },
  {
   "cell_type": "code",
   "execution_count": 610,
   "metadata": {},
   "outputs": [],
   "source": [
    "population_size = 15\n",
    "number_of_new_generations = 15"
   ]
  },
  {
   "cell_type": "code",
   "execution_count": 611,
   "metadata": {},
   "outputs": [],
   "source": [
    "def Genetic_Algorithm(population_size,num_of_generations):\n",
    "    \n",
    "    mutated_list = []\n",
    "    final_mutated_list = []\n",
    "    mutated_child_list = []\n",
    "    population_batch = random_initial_population(population_size)\n",
    "    fitness_list = fitness(population_batch)\n",
    "    \n",
    "    while (num_of_generations != 0):\n",
    "        parent1_index,parent2_index = selection_of_population(fitness_list)\n",
    "        parent1_selected = list(fitness_list[parent1_index][0])\n",
    "        parent2_selected = list(fitness_list[parent2_index][0])\n",
    "        \n",
    "        child = uniform_crossover(parent1_selected,parent2_selected)\n",
    "        \n",
    "        mutated_child = mutation(child)\n",
    "        mutated_child_list.append(mutated_child)\n",
    "        \n",
    "        num_of_generations = num_of_generations - 1\n",
    "    \n",
    "    mutated_child_list = [ value[0] for value in mutated_child_list ]\n",
    "    new_generation = fitness(mutated_child_list)\n",
    "        \n",
    "    mutated_list.append(new_generation)\n",
    "    \n",
    "    ## Some generations are discarded in this place because that generation caused the model to overfit becuase the testing error was more than training error\n",
    "    for k in range(len(mutated_list[0])):\n",
    "        if (mutated_list[0][k][1] > mutated_list[0][k][2]):\n",
    "            final_mutated_list.append(mutated_list[0][k])\n",
    "    \n",
    "    return final_mutated_list"
   ]
  },
  {
   "cell_type": "code",
   "execution_count": 612,
   "metadata": {},
   "outputs": [
    {
     "name": "stdout",
     "output_type": "stream",
     "text": [
      "[((0.0078125, 22, 9, 200), 0.004587419796735048, 0.004559872671961784), ((0.0126953125, 21, 9, 217), 0.004524223040789366, 0.0043997070752084255), ((0.0126953125, 21, 9, 217), 0.004514699801802635, 0.004341353662312031), ((0.0126953125, 21, 9, 248), 0.00449478579685092, 0.004341797903180122), ((0.0126953125, 21, 9, 217), 0.004505269229412079, 0.00439127441495657), ((0.0126953125, 22, 9, 248), 0.004663845058530569, 0.0046396576799452305), ((0.0126953125, 22, 10, 200), 0.004517186898738146, 0.0044081551022827625), ((0.0126953125, 21, 10, 208), 0.004494587425142527, 0.004312422592192888)]\n"
     ]
    }
   ],
   "source": [
    "## Applying genetic algorithm \n",
    "new_list_formed = Genetic_Algorithm(population_size,number_of_new_generations)\n",
    "print(new_list_formed)\n",
    "# Extracting the best hyperparameter which gives the least rmse value\n"
   ]
  },
  {
   "cell_type": "code",
   "execution_count": 613,
   "metadata": {},
   "outputs": [],
   "source": [
    "index_list = []\n",
    "for i in range(len(new_list_formed)):\n",
    "    index_list.append((new_list_formed[i][2]))\n",
    "index = np.argmin(index_list)\n",
    "\n",
    "best_hyperparameters = new_list_formed[index]"
   ]
  },
  {
   "cell_type": "code",
   "execution_count": 614,
   "metadata": {},
   "outputs": [
    {
     "data": {
      "text/plain": [
       "((0.0126953125, 21, 10, 208), 0.004494587425142527, 0.004312422592192888)"
      ]
     },
     "execution_count": 614,
     "metadata": {},
     "output_type": "execute_result"
    }
   ],
   "source": [
    "best_hyperparameters"
   ]
  },
  {
   "cell_type": "markdown",
   "metadata": {},
   "source": [
    "### Encoding"
   ]
  },
  {
   "cell_type": "code",
   "execution_count": 647,
   "metadata": {},
   "outputs": [
    {
     "name": "stderr",
     "output_type": "stream",
     "text": [
      "C:\\Users\\Prateek\\Anaconda3\\lib\\site-packages\\ipykernel_launcher.py:48: SettingWithCopyWarning: \n",
      "A value is trying to be set on a copy of a slice from a DataFrame.\n",
      "Try using .loc[row_indexer,col_indexer] = value instead\n",
      "\n",
      "See the caveats in the documentation: https://pandas.pydata.org/pandas-docs/stable/user_guide/indexing.html#returning-a-view-versus-a-copy\n"
     ]
    }
   ],
   "source": [
    "# Reference - Most of the coding is taken or inspired from the lab 3 solutions in which regression model is been implemented\n",
    "# Reading the csv files\n",
    "df = pd.read_csv('Comp1111_data_csv.csv')\n",
    "df = df[2:]\n",
    "df = df.drop(columns=['Regno','ES'])\n",
    "\n",
    "# Preprocessing\n",
    "le = preprocessing.LabelEncoder()\n",
    "df['Tutgroup'] = le.fit_transform(df['Tutgroup'])\n",
    "df.reset_index(inplace = True)\n",
    "\n",
    "le = preprocessing.LabelEncoder()\n",
    "df['Crse/Prog'] = le.fit_transform(df['Crse/Prog'])\n",
    "df.reset_index(inplace = True)\n",
    "\n",
    "#Replacing '.' to zeros\n",
    "df = df.replace(to_replace= '.' , value = 0)\n",
    "\n",
    "# String to numeric Conversion\n",
    "df['S'] = pd.to_numeric(df['S'])\n",
    "df['lab2'] = pd.to_numeric(df['lab2'])\n",
    "df['Unnamed: 6'] = pd.to_numeric(df['Unnamed: 6'])\n",
    "df['lab4'] = pd.to_numeric(df['lab4'])\n",
    "df['Unnamed: 8'] = pd.to_numeric(df['Unnamed: 8'])\n",
    "df['h2'] = pd.to_numeric(df['h2'])\n",
    "df['Unnamed: 10'] = pd.to_numeric(df['Unnamed: 10'])\n",
    "df['p1'] = pd.to_numeric(df['p1'])\n",
    "df['Unnamed: 12'] = pd.to_numeric(df['Unnamed: 12'])\n",
    "df['mid'] = pd.to_numeric(df['mid'])\n",
    "df['Unnamed: 14'] = pd.to_numeric(df['Unnamed: 14'])\n",
    "df['final'] = pd.to_numeric(df['final'])\n",
    "\n",
    "X = df.drop(columns = ['final'])\n",
    "Y = df[['final']]\n",
    "\n",
    "# Normalization\n",
    "X['lab2'] = X['lab2'] / 3\n",
    "X['Unnamed: 6'] = X['Unnamed: 6'] / 5\n",
    "X['lab4'] = X['lab4'] / 3\n",
    "X['Unnamed: 8'] = X['Unnamed: 8'] / 20\n",
    "X['h2'] = X['h2'] / 20\n",
    "X['Unnamed: 10'] = X['Unnamed: 10'] / 3\n",
    "X['p1'] = X['p1'] / 20\n",
    "X['Unnamed: 12'] = X['Unnamed: 12'] / 20\n",
    "X['mid'] = X['mid'] / 45\n",
    "X['Unnamed: 14'] = X['Unnamed: 14'] / 3\n",
    "\n",
    "Y['final'] = Y['final']/100\n",
    "X = X.drop(columns = ['level_0','index'])"
   ]
  },
  {
   "cell_type": "code",
   "execution_count": 648,
   "metadata": {},
   "outputs": [],
   "source": [
    "# Reference - Most of the coding is taken or inspired from the lab 3 solutions in which regression model is been implemented\n",
    "X_train1, X_test1, Y_train1, Y_test1 = train_test_split(X, Y, test_size=0.2, random_state=42)\n",
    "\n",
    "X = X_train1.values\n",
    "\n",
    "Y = Y_train1.values\n",
    "\n",
    "# Converting dataframes values to tensor\n",
    "X_test1_tensor = torch.Tensor(X_test1.values).float()\n",
    "Y_test1_tensor = torch.Tensor(Y_test1.values).float()"
   ]
  },
  {
   "cell_type": "code",
   "execution_count": 649,
   "metadata": {},
   "outputs": [],
   "source": [
    "# Reference - Most of the coding is taken or inspired from the lab 3 solutions in which regression model is been implemented\n",
    "feature_size = X_train1.shape[1]\n",
    "hidden_layes = best_hyperparameters[0][1]\n",
    "hidden_layes_1 = best_hyperparameters[0][2]\n",
    "learning_rate = best_hyperparameters[0][0]\n",
    "epochs = best_hyperparameters[0][3]\n",
    "\n",
    "# Regression class model\n",
    "class Regression_Net(nn.Module):\n",
    "    def __init__(self,feature_size, hidden, hidden_1,n_output):\n",
    "        super(Regression_Net, self).__init__()\n",
    "        self.layer_1 = nn.Linear(feature_size,hidden)\n",
    "        self.layer_2 = nn.Linear(hidden, hidden_1)\n",
    "        self.layer_3 = nn.Linear(hidden_1,n_output)\n",
    "        \n",
    "    def forward(self,x):\n",
    "        fc = self.layer_1(x)\n",
    "        x = (fc)\n",
    "        x = (self.layer_2(x))\n",
    "        output_layer = (self.layer_3(x))\n",
    "        return output_layer\n",
    "    \n",
    "regression_neural_network = Regression_Net(feature_size,hidden_layes,hidden_layes_1,n_output=1)\n",
    "#optimizer\n",
    "optimizer = torch.optim.Adam(regression_neural_network.parameters(),lr = learning_rate)\n",
    "# Loss function\n",
    "loss_function = nn.MSELoss()"
   ]
  },
  {
   "cell_type": "markdown",
   "metadata": {},
   "source": [
    "#### Training of the model"
   ]
  },
  {
   "cell_type": "code",
   "execution_count": 650,
   "metadata": {},
   "outputs": [
    {
     "name": "stdout",
     "output_type": "stream",
     "text": [
      "Training error at 1 epoch is 0.06300920993089676\n"
     ]
    },
    {
     "data": {
      "image/png": "[encoded data removed]",
      "text/plain": [
       "<Figure size 432x288 with 1 Axes>"
      ]
     },
     "metadata": {
      "needs_background": "light"
     },
     "output_type": "display_data"
    },
    {
     "name": "stdout",
     "output_type": "stream",
     "text": [
      "Training error at 100 epoch is 0.005661878269165754\n"
     ]
    },
    {
     "data": {
      "image/png": "[encoded data removed]",
      "text/plain": [
       "<Figure size 432x288 with 1 Axes>"
      ]
     },
     "metadata": {
      "needs_background": "light"
     },
     "output_type": "display_data"
    },
    {
     "name": "stdout",
     "output_type": "stream",
     "text": [
      "Training error at 200 epoch is 0.004481672775000334\n"
     ]
    },
    {
     "data": {
      "image/png": "[encoded data removed]",
      "text/plain": [
       "<Figure size 432x288 with 1 Axes>"
      ]
     },
     "metadata": {
      "needs_background": "light"
     },
     "output_type": "display_data"
    }
   ],
   "source": [
    "# Reference - Most of the coding is taken or inspired from the lab 3 solutions in which regression model is been implemented\n",
    "X_train_tensor = torch.Tensor(X_train1.values).float()\n",
    "Y_train_tensor = torch.Tensor(Y_train1.values).float()\n",
    "\n",
    "losses_array1 = []\n",
    "\n",
    "for ep in range(epochs):\n",
    "    train_prediction = regression_neural_network(X_train_tensor)\n",
    "\n",
    "    loss = loss_function(train_prediction,Y_train_tensor)\n",
    "    \n",
    "    losses_array1.append(loss.item()) # Appending the loss to an array\n",
    "    \n",
    "    if ep == 1:\n",
    "        print(\"Training error at\",ep,\"epoch is\",losses_array1[ep])\n",
    "        sns.distplot(losses_array1) # Plotting of the graph\n",
    "        plt.title(\"Error distribution at epoch 1\")\n",
    "        plt.ylabel(\"Frequency\")\n",
    "        plt.savefig('Epoch1.png')\n",
    "        plt.show()\n",
    "    \n",
    "    if ep == 100:\n",
    "        print(\"Training error at\",ep,\"epoch is\",losses_array1[ep])\n",
    "        sns.distplot(losses_array1) # Plotting of the graph\n",
    "        plt.title(\"Error distribution at epoch 100\")\n",
    "        plt.ylabel(\"Frequency\")\n",
    "        plt.savefig('Epoch2.png')\n",
    "        plt.show()\n",
    "        \n",
    "    if ep == 200 :\n",
    "        print(\"Training error at\",ep,\"epoch is\",losses_array1[ep])\n",
    "        sns.distplot(losses_array1) # Plotting of the graph\n",
    "        plt.title(\"Error distribution at epoch 200\")\n",
    "        plt.ylabel(\"Frequency\")\n",
    "        plt.savefig('Epoch3.png')\n",
    "        plt.show()\n",
    "\n",
    "    optimizer.zero_grad()\n",
    "\n",
    "    loss.backward()\n",
    "\n",
    "    optimizer.step()"
   ]
  },
  {
   "cell_type": "code",
   "execution_count": 651,
   "metadata": {},
   "outputs": [
    {
     "data": {
      "image/png": "[encoded data removed]",
      "text/plain": [
       "<Figure size 432x288 with 1 Axes>"
      ]
     },
     "metadata": {
      "needs_background": "light"
     },
     "output_type": "display_data"
    }
   ],
   "source": [
    "plt.plot(losses_array1,'r')\n",
    "plt.ylabel('Loss')\n",
    "plt.xlabel('Epochs')\n",
    "plt.savefig('loss_array_new.png')"
   ]
  },
  {
   "cell_type": "markdown",
   "metadata": {},
   "source": [
    "### Encoding"
   ]
  },
  {
   "cell_type": "code",
   "execution_count": 703,
   "metadata": {},
   "outputs": [
    {
     "name": "stderr",
     "output_type": "stream",
     "text": [
      "C:\\Users\\Prateek\\Anaconda3\\lib\\site-packages\\ipykernel_launcher.py:47: SettingWithCopyWarning: \n",
      "A value is trying to be set on a copy of a slice from a DataFrame.\n",
      "Try using .loc[row_indexer,col_indexer] = value instead\n",
      "\n",
      "See the caveats in the documentation: https://pandas.pydata.org/pandas-docs/stable/user_guide/indexing.html#returning-a-view-versus-a-copy\n"
     ]
    }
   ],
   "source": [
    "# Reference - Most of the coding is taken or inspired from the lab 3 solutions in which regression model is been implemented\n",
    "# Reading the csv files\n",
    "df = pd.read_csv('Comp1111_data_csv.csv')\n",
    "df = df[2:]\n",
    "df = df.drop(columns=['Regno','ES'])\n",
    "\n",
    "# Preprocessing\n",
    "le = preprocessing.LabelEncoder()\n",
    "df['Tutgroup'] = le.fit_transform(df['Tutgroup'])\n",
    "df.reset_index(inplace = True)\n",
    "\n",
    "le = preprocessing.LabelEncoder()\n",
    "df['Crse/Prog'] = le.fit_transform(df['Crse/Prog'])\n",
    "df.reset_index(inplace = True)\n",
    "\n",
    "#Replacing '.' to zeros\n",
    "df = df.replace(to_replace= '.' , value = 0)\n",
    "# String to numeric Conversion\n",
    "df['S'] = pd.to_numeric(df['S'])\n",
    "df['lab2'] = pd.to_numeric(df['lab2'])\n",
    "df['Unnamed: 6'] = pd.to_numeric(df['Unnamed: 6'])\n",
    "df['lab4'] = pd.to_numeric(df['lab4'])\n",
    "df['Unnamed: 8'] = pd.to_numeric(df['Unnamed: 8'])\n",
    "df['h2'] = pd.to_numeric(df['h2'])\n",
    "df['Unnamed: 10'] = pd.to_numeric(df['Unnamed: 10'])\n",
    "df['p1'] = pd.to_numeric(df['p1'])\n",
    "df['Unnamed: 12'] = pd.to_numeric(df['Unnamed: 12'])\n",
    "df['mid'] = pd.to_numeric(df['mid'])\n",
    "df['Unnamed: 14'] = pd.to_numeric(df['Unnamed: 14'])\n",
    "df['final'] = pd.to_numeric(df['final'])\n",
    "\n",
    "X = df.drop(columns = ['final'])\n",
    "Y = df[['final']]\n",
    "\n",
    "# Normalization\n",
    "X['lab2'] = X['lab2'] / 3\n",
    "X['Unnamed: 6'] = X['Unnamed: 6'] / 5\n",
    "X['lab4'] = X['lab4'] / 3\n",
    "X['Unnamed: 8'] = X['Unnamed: 8'] / 20\n",
    "X['h2'] = X['h2'] / 20\n",
    "X['Unnamed: 10'] = X['Unnamed: 10'] / 3\n",
    "X['p1'] = X['p1'] / 20\n",
    "X['Unnamed: 12'] = X['Unnamed: 12'] / 20\n",
    "X['mid'] = X['mid'] / 45\n",
    "X['Unnamed: 14'] = X['Unnamed: 14'] / 3\n",
    "\n",
    "Y['final'] = Y['final']/100\n",
    "X = X.drop(columns = ['level_0','index'])"
   ]
  },
  {
   "cell_type": "code",
   "execution_count": 704,
   "metadata": {},
   "outputs": [],
   "source": [
    "# Reference - Most of the coding is taken or inspired from the lab 3 solutions in which regression model is been implemented\n",
    "X_train1, X_test1, Y_train1, Y_test1 = train_test_split(X, Y, test_size=0.25, random_state=42)\n",
    "X_train1 = X_train1.reset_index(drop = True)\n",
    "Y_train1 = Y_train1.reset_index(drop=True)"
   ]
  },
  {
   "cell_type": "code",
   "execution_count": 705,
   "metadata": {},
   "outputs": [],
   "source": [
    "# Reference - Most of the coding is taken or inspired from the lab 3 solutions in which regression model is been implemented\n",
    "Training_set_index = X_train1.index\n",
    "Testing_set_index = Y_train1.index"
   ]
  },
  {
   "cell_type": "code",
   "execution_count": 706,
   "metadata": {},
   "outputs": [],
   "source": [
    "# Reference - Most of the coding is taken or inspired from the lab 3 solutions in which regression model is been implemented\n",
    "feature_size = X_train1.shape[1]\n",
    "hidden_layes = best_hyperparameters[0][1]\n",
    "hidden_layes_1 = best_hyperparameters[0][2]\n",
    "learning_rate = best_hyperparameters[0][0]\n",
    "epochs = best_hyperparameters[0][3]\n",
    "\n",
    "# Regression class model\n",
    "class Regression_Net(nn.Module):\n",
    "    def __init__(self,feature_size, hidden, hidden_1,n_output):\n",
    "        super(Regression_Net, self).__init__()\n",
    "        self.layer_1 = nn.Linear(feature_size,hidden)\n",
    "        self.layer_2 = nn.Linear(hidden, hidden_1)\n",
    "        self.layer_3 = nn.Linear(hidden_1,n_output)\n",
    "        \n",
    "    def forward(self,x):\n",
    "        fc = self.layer_1(x)\n",
    "        x = (fc)\n",
    "        x = (self.layer_2(x))\n",
    "        output_layer = (self.layer_3(x))\n",
    "        return output_layer\n",
    "    \n",
    "regression_neural_network = Regression_Net(feature_size,hidden_layes,hidden_layes_1,n_output=1)\n",
    "#optimizer\n",
    "optimizer = torch.optim.Adam(regression_neural_network.parameters(),lr = learning_rate)\n",
    "# Loss function\n",
    "loss_function = nn.MSELoss()"
   ]
  },
  {
   "cell_type": "markdown",
   "metadata": {},
   "source": [
    "### Applying BDR on the training set"
   ]
  },
  {
   "cell_type": "code",
   "execution_count": 707,
   "metadata": {},
   "outputs": [
    {
     "name": "stdout",
     "output_type": "stream",
     "text": [
      "Training error at 0 is 0.778221845626831\n",
      "Epoch Number 0\n",
      "Mean error 0.8362492\n",
      "Standard deviation error 0.280908\n",
      "Threshold error 0.9767031669616699\n",
      "Number of data points removed from the dataset at 0 epoch is 34\n",
      "\n",
      "\n"
     ]
    },
    {
     "data": {
      "image/png": "[encoded data removed]",
      "text/plain": [
       "<Figure size 432x288 with 1 Axes>"
      ]
     },
     "metadata": {
      "needs_background": "light"
     },
     "output_type": "display_data"
    }
   ],
   "source": [
    "# Reference - Most of the coding is taken or inspired from the lab 3 solutions in which regression model is been implemented\n",
    "losses_array = []\n",
    "variance_array = []\n",
    "\n",
    "for ep in range(epochs):\n",
    "    new_index = []\n",
    "    loss_array = []\n",
    "    X_train_tensor = torch.Tensor(X_train1.values).float()\n",
    "    Y_train_tensor = torch.Tensor(Y_train1.values).float()\n",
    "    \n",
    "    train_prediction = regression_neural_network(X_train_tensor)\n",
    "    loss = loss_function(train_prediction,Y_train_tensor)\n",
    "    losses_array.append(loss.item())\n",
    "    \n",
    "    if (ep % 100 == 0) :\n",
    "        loss_array = (Y_train_tensor - train_prediction).detach().numpy()\n",
    "        loss_array = np.abs(loss_array)\n",
    "        variance = np.var(loss_array)\n",
    "        variance_array.append(variance)\n",
    "        if variance <= 0.01:\n",
    "             break\n",
    "        else:\n",
    "            mean_error = np.mean(loss_array)\n",
    "            standard_error = np.std(loss_array)\n",
    "            threshold_error = mean_error + 0.5*standard_error\n",
    "            print(\"Training error at\",ep,\"is\",losses_array[-1])\n",
    "            print(\"Epoch Number\",ep)\n",
    "            print(\"Mean error\",mean_error)\n",
    "            print(\"Standard deviation error\",standard_error)\n",
    "            print(\"Threshold error\",threshold_error)\n",
    "            \n",
    "            for t in range(len(loss_array)):\n",
    "                if (loss_array[t] >= threshold_error):\n",
    "                    new_index.append(t)\n",
    "                    \n",
    "        X_train1 = X_train1.drop(new_index)\n",
    "        X_train1 = X_train1.reset_index(drop = True)\n",
    "        Y_train1 = Y_train1.drop(new_index)\n",
    "        Y_train1 = Y_train1.reset_index(drop = True)\n",
    "        print(\"Number of data points removed from the dataset at\",ep, \"epoch is\",len(new_index))\n",
    "        print(\"\\n\")\n",
    "        sns.distplot(loss_array) # Plotting of the graph\n",
    "        plt.title(\"Error distribution at epoch \"+ str(ep))\n",
    "        plt.ylabel(\"Frequency\")\n",
    "        plt.savefig('BDR_epoch0.png')\n",
    "        plt.show()\n",
    " \n",
    "        \n",
    "    optimizer.zero_grad()\n",
    "\n",
    "    loss.backward()\n",
    "\n",
    "    optimizer.step()"
   ]
  },
  {
   "cell_type": "markdown",
   "metadata": {},
   "source": [
    "### Testing of the model"
   ]
  },
  {
   "cell_type": "code",
   "execution_count": 708,
   "metadata": {},
   "outputs": [
    {
     "name": "stdout",
     "output_type": "stream",
     "text": [
      "test loss: 0.011270\n"
     ]
    }
   ],
   "source": [
    "# Reference - Most of the coding is taken or inspired from the lab 3 solutions in which regression model is been implemented\n",
    "test_prediction = regression_neural_network(X_test1_tensor)\n",
    "loss_on_test_data = loss_function(test_prediction,Y_test1_tensor)\n",
    "print('test loss: %f' % loss_on_test_data.item())"
   ]
  },
  {
   "cell_type": "markdown",
   "metadata": {},
   "source": [
    "### Error graph between the feed forward neural network and the feed forward neural network with BDR algorithm applied"
   ]
  },
  {
   "cell_type": "code",
   "execution_count": 710,
   "metadata": {},
   "outputs": [
    {
     "data": {
      "image/png": "[encoded data removed]",
      "text/plain": [
       "<Figure size 432x288 with 1 Axes>"
      ]
     },
     "metadata": {
      "needs_background": "light"
     },
     "output_type": "display_data"
    }
   ],
   "source": [
    "# Reference - Most of the coding is taken or inspired from the lab 3 solutions in which regression model is been implemented\n",
    "plt.plot(losses_array1)\n",
    "plt.plot(losses_array)\n",
    "plt.xlabel(\"Epochs\")\n",
    "plt.ylabel(\"Loss\")\n",
    "plt.savefig('loss_fn.png')\n",
    "plt.show()"
   ]
  },
  {
   "cell_type": "markdown",
   "metadata": {},
   "source": [
    "## Applying BDR on dataset intially and then applying train and test on that dataset"
   ]
  },
  {
   "cell_type": "markdown",
   "metadata": {},
   "source": [
    "### Applying BDR"
   ]
  },
  {
   "cell_type": "markdown",
   "metadata": {},
   "source": [
    "### Encoding"
   ]
  },
  {
   "cell_type": "code",
   "execution_count": 719,
   "metadata": {},
   "outputs": [
    {
     "name": "stderr",
     "output_type": "stream",
     "text": [
      "C:\\Users\\Prateek\\Anaconda3\\lib\\site-packages\\ipykernel_launcher.py:47: SettingWithCopyWarning: \n",
      "A value is trying to be set on a copy of a slice from a DataFrame.\n",
      "Try using .loc[row_indexer,col_indexer] = value instead\n",
      "\n",
      "See the caveats in the documentation: https://pandas.pydata.org/pandas-docs/stable/user_guide/indexing.html#returning-a-view-versus-a-copy\n"
     ]
    }
   ],
   "source": [
    "# Reference - Most of the coding is taken or inspired from the lab 3 solutions in which regression model is been implemented\n",
    "# Reading the csv files\n",
    "df = pd.read_csv('Comp1111_data_csv.csv')\n",
    "df = df[2:]\n",
    "df = df.drop(columns=['Regno','ES'])\n",
    "\n",
    "# Preprocessing\n",
    "le = preprocessing.LabelEncoder()\n",
    "df['Tutgroup'] = le.fit_transform(df['Tutgroup'])\n",
    "df.reset_index(inplace = True)\n",
    "\n",
    "le = preprocessing.LabelEncoder()\n",
    "df['Crse/Prog'] = le.fit_transform(df['Crse/Prog'])\n",
    "df.reset_index(inplace = True)\n",
    "\n",
    "#Replacing '.' to zeros\n",
    "df = df.replace(to_replace= '.' , value = 0)\n",
    "# String to numeric Conversion\n",
    "df['S'] = pd.to_numeric(df['S'])\n",
    "df['lab2'] = pd.to_numeric(df['lab2'])\n",
    "df['Unnamed: 6'] = pd.to_numeric(df['Unnamed: 6'])\n",
    "df['lab4'] = pd.to_numeric(df['lab4'])\n",
    "df['Unnamed: 8'] = pd.to_numeric(df['Unnamed: 8'])\n",
    "df['h2'] = pd.to_numeric(df['h2'])\n",
    "df['Unnamed: 10'] = pd.to_numeric(df['Unnamed: 10'])\n",
    "df['p1'] = pd.to_numeric(df['p1'])\n",
    "df['Unnamed: 12'] = pd.to_numeric(df['Unnamed: 12'])\n",
    "df['mid'] = pd.to_numeric(df['mid'])\n",
    "df['Unnamed: 14'] = pd.to_numeric(df['Unnamed: 14'])\n",
    "df['final'] = pd.to_numeric(df['final'])\n",
    "\n",
    "X = df.drop(columns = ['final'])\n",
    "Y = df[['final']]\n",
    "\n",
    "# Normalization\n",
    "X['lab2'] = X['lab2'] / 3\n",
    "X['Unnamed: 6'] = X['Unnamed: 6'] / 5\n",
    "X['lab4'] = X['lab4'] / 3\n",
    "X['Unnamed: 8'] = X['Unnamed: 8'] / 20\n",
    "X['h2'] = X['h2'] / 20\n",
    "X['Unnamed: 10'] = X['Unnamed: 10'] / 3\n",
    "X['p1'] = X['p1'] / 20\n",
    "X['Unnamed: 12'] = X['Unnamed: 12'] / 20\n",
    "X['mid'] = X['mid'] / 45\n",
    "X['Unnamed: 14'] = X['Unnamed: 14'] / 3\n",
    "\n",
    "Y['final'] = Y['final']/100\n",
    "X = X.drop(columns = ['level_0','index'])"
   ]
  },
  {
   "cell_type": "code",
   "execution_count": 720,
   "metadata": {},
   "outputs": [],
   "source": [
    "# Reference - Most of the coding is taken or inspired from the lab 3 solutions in which regression model is been implemented\n",
    "X_train1,Y_train1 = X,Y"
   ]
  },
  {
   "cell_type": "code",
   "execution_count": 721,
   "metadata": {},
   "outputs": [],
   "source": [
    "# Reference - Most of the coding is taken or inspired from the lab 3 solutions in which regression model is been implemented\n",
    "feature_size = X_train1.shape[1]\n",
    "hidden_layes = best_hyperparameters[0][1]\n",
    "hidden_layes_1 = best_hyperparameters[0][2]\n",
    "learning_rate = best_hyperparameters[0][0]\n",
    "epochs = best_hyperparameters[0][3]\n",
    "\n",
    "# Regression class model\n",
    "class Regression_Net(nn.Module):\n",
    "    def __init__(self,feature_size, hidden, hidden_1,n_output):\n",
    "        super(Regression_Net, self).__init__()\n",
    "        self.layer_1 = nn.Linear(feature_size,hidden)\n",
    "        self.layer_2 = nn.Linear(hidden, hidden_1)\n",
    "        self.layer_3 = nn.Linear(hidden_1,n_output)\n",
    "        \n",
    "    def forward(self,x):\n",
    "        fc = self.layer_1(x)\n",
    "        x = (fc)\n",
    "        x = (self.layer_2(x))\n",
    "        output_layer = (self.layer_3(x))\n",
    "        return output_layer\n",
    "    \n",
    "regression_neural_network = Regression_Net(feature_size,hidden_layes,hidden_layes_1,n_output=1)\n",
    "#optimizer\n",
    "optimizer = torch.optim.Adam(regression_neural_network.parameters(),lr = learning_rate)\n",
    "# Loss function\n",
    "loss_function = nn.MSELoss()"
   ]
  },
  {
   "cell_type": "markdown",
   "metadata": {},
   "source": [
    "### Applying the BDR algorithm"
   ]
  },
  {
   "cell_type": "code",
   "execution_count": 722,
   "metadata": {},
   "outputs": [
    {
     "name": "stdout",
     "output_type": "stream",
     "text": [
      "Training error at 0 is 0.231109619140625\n",
      "Epoch Number 0\n",
      "Mean error 0.38333935\n",
      "Standard deviation error 0.29010442\n",
      "Threshold error 0.49938111305236815\n",
      "Number of data points removed from the dataset at 0 epoch is 50\n",
      "\n",
      "\n"
     ]
    },
    {
     "data": {
      "image/png": "[encoded data removed]",
      "text/plain": [
       "<Figure size 432x288 with 1 Axes>"
      ]
     },
     "metadata": {
      "needs_background": "light"
     },
     "output_type": "display_data"
    }
   ],
   "source": [
    "# Reference - Most of the coding is taken or inspired from the lab 3 solutions in which regression model is been implemented\n",
    "losses_array = []\n",
    "variance_array = []\n",
    "\n",
    "for ep in range(epochs):\n",
    "    new_index = []\n",
    "    loss_array = []\n",
    "    X_train_tensor = torch.Tensor(X_train1.values).float()\n",
    "    Y_train_tensor = torch.Tensor(Y_train1.values).float()\n",
    "    \n",
    "    train_prediction = regression_neural_network(X_train_tensor)\n",
    "    loss = loss_function(train_prediction,Y_train_tensor)\n",
    "    losses_array.append(loss.item())\n",
    "    \n",
    "    if (ep % 100 == 0) :\n",
    "        loss_array = (Y_train_tensor - train_prediction).detach().numpy()\n",
    "        loss_array = np.abs(loss_array)\n",
    "        variance = np.var(loss_array)\n",
    "        variance_array.append(variance)\n",
    "        if variance <= 0.01:\n",
    "             break\n",
    "        else:\n",
    "            mean_error = np.mean(loss_array)\n",
    "            standard_error = np.std(loss_array)\n",
    "            threshold_error = mean_error + 0.4*standard_error\n",
    "            print(\"Training error at\",ep,\"is\",losses_array[-1])\n",
    "            print(\"Epoch Number\",ep)\n",
    "            print(\"Mean error\",mean_error)\n",
    "            print(\"Standard deviation error\",standard_error)\n",
    "            print(\"Threshold error\",threshold_error)\n",
    "            \n",
    "            for t in range(len(loss_array)):\n",
    "                if (loss_array[t] >= threshold_error):\n",
    "                    new_index.append(t)\n",
    "                    \n",
    "        X_train1 = X_train1.drop(new_index)\n",
    "        X_train1 = X_train1.reset_index(drop = True)\n",
    "        Y_train1 = Y_train1.drop(new_index)\n",
    "        Y_train1 = Y_train1.reset_index(drop = True)\n",
    "        print(\"Number of data points removed from the dataset at\",ep, \"epoch is\",len(new_index))\n",
    "        print(\"\\n\")\n",
    "        sns.distplot(loss_array) # Plotting of the graph\n",
    "        plt.title(\"Error distribution at epoch \"+ str(ep))\n",
    "        plt.ylabel(\"Frequency\")\n",
    "        plt.savefig('BDR_full.png')\n",
    "        plt.show()\n",
    " \n",
    "        \n",
    "    optimizer.zero_grad()\n",
    "\n",
    "    loss.backward()\n",
    "\n",
    "    optimizer.step()"
   ]
  },
  {
   "cell_type": "markdown",
   "metadata": {},
   "source": [
    "#### Now applying Neural network on the new dataset after removing the dataset using BDR algorithm"
   ]
  },
  {
   "cell_type": "code",
   "execution_count": 723,
   "metadata": {},
   "outputs": [],
   "source": [
    "# Reference - Most of the coding is taken or inspired from the lab 3 solutions in which regression model is been implemented\n",
    "X_neural_train, X_neural_test, Y_neural_train, Y_neural_test = train_test_split(X_train1, Y_train1, test_size= 0.2, random_state=42)\n",
    "X_test1_tensor = torch.Tensor(X_neural_test.values).float()\n",
    "Y_test1_tensor = torch.Tensor(Y_neural_test.values).float()"
   ]
  },
  {
   "cell_type": "code",
   "execution_count": 724,
   "metadata": {},
   "outputs": [],
   "source": [
    "# Reference - Most of the coding is taken or inspired from the lab 3 solutions in which regression model is been implemented\n",
    "feature_size = X_train1.shape[1]\n",
    "hidden_layes = best_hyperparameters[0][1]\n",
    "hidden_layes_1 = best_hyperparameters[0][2]\n",
    "learning_rate = best_hyperparameters[0][0]\n",
    "epochs = best_hyperparameters[0][3]\n",
    "\n",
    "# Regression class model\n",
    "class Regression_Net(nn.Module):\n",
    "    def __init__(self,feature_size, hidden, hidden_1,n_output):\n",
    "        super(Regression_Net, self).__init__()\n",
    "        self.layer_1 = nn.Linear(feature_size,hidden)\n",
    "        self.layer_2 = nn.Linear(hidden, hidden_1)\n",
    "        self.layer_3 = nn.Linear(hidden_1,n_output)\n",
    "        \n",
    "    def forward(self,x):\n",
    "        fc = self.layer_1(x)\n",
    "        x = (fc)\n",
    "        x = (self.layer_2(x))\n",
    "        output_layer = (self.layer_3(x))\n",
    "        return output_layer\n",
    "    \n",
    "regression_neural_network = Regression_Net(feature_size,hidden_layes,hidden_layes_1,n_output=1)\n",
    "#optimizer\n",
    "optimizer = torch.optim.Adam(regression_neural_network.parameters(),lr = learning_rate)\n",
    "# Loss function\n",
    "loss_function = nn.MSELoss()"
   ]
  },
  {
   "cell_type": "markdown",
   "metadata": {},
   "source": [
    "#### Training of the model"
   ]
  },
  {
   "cell_type": "code",
   "execution_count": 725,
   "metadata": {},
   "outputs": [
    {
     "name": "stdout",
     "output_type": "stream",
     "text": [
      "Training error at 0 is 0.29303449392318726\n",
      "Training error at 50 is 0.011268800124526024\n",
      "Training error at 100 is 0.007091884966939688\n",
      "Training error at 150 is 0.005727490875869989\n",
      "Training error at 200 is 0.004625499714165926\n"
     ]
    }
   ],
   "source": [
    "# Reference - Most of the coding is taken or inspired from the lab 3 solutions in which regression model is been implemented\n",
    "X_train_tensor = torch.Tensor(X_neural_train.values).float()\n",
    "Y_train_tensor = torch.Tensor(Y_neural_train.values).float()\n",
    "\n",
    "losses_array1 = []\n",
    "\n",
    "for ep in range(epochs):\n",
    "    train_prediction = regression_neural_network(X_train_tensor)\n",
    "\n",
    "    loss = loss_function(train_prediction,Y_train_tensor)\n",
    "    \n",
    "    losses_array1.append(loss.item())\n",
    "    \n",
    "    if ep % 50 == 0 :\n",
    "        print(\"Training error at\",ep,\"is\",losses_array1[ep])\n",
    "\n",
    "    optimizer.zero_grad()\n",
    "\n",
    "    loss.backward()\n",
    "\n",
    "    optimizer.step()\n",
    "    "
   ]
  },
  {
   "cell_type": "markdown",
   "metadata": {},
   "source": [
    "#### Testing of the model"
   ]
  },
  {
   "cell_type": "code",
   "execution_count": 726,
   "metadata": {},
   "outputs": [
    {
     "name": "stdout",
     "output_type": "stream",
     "text": [
      "test loss: 0.006380\n"
     ]
    }
   ],
   "source": [
    "# Reference - Most of the coding is taken or inspired from the lab 3 solutions in which regression model is been implemented\n",
    "test_prediction = regression_neural_network(X_test1_tensor)\n",
    "loss_on_test_data = loss_function(test_prediction,Y_test1_tensor)\n",
    "print('test loss: %f' % loss_on_test_data.item())"
   ]
  },
  {
   "cell_type": "code",
   "execution_count": null,
   "metadata": {},
   "outputs": [],
   "source": []
  }
 ],
 "metadata": {
  "kernelspec": {
   "display_name": "Python 3",
   "language": "python",
   "name": "python3"
  },
  "language_info": {
   "codemirror_mode": {
    "name": "ipython",
    "version": 3
   },
   "file_extension": ".py",
   "mimetype": "text/x-python",
   "name": "python",
   "nbconvert_exporter": "python",
   "pygments_lexer": "ipython3",
   "version": "3.7.1"
  }
 },
 "nbformat": 4,
 "nbformat_minor": 2
}
